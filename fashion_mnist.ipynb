{
  "nbformat": 4,
  "nbformat_minor": 0,
  "metadata": {
    "colab": {
      "name": "fashion-mnist.ipynb",
      "version": "0.3.2",
      "provenance": [],
      "collapsed_sections": [],
      "include_colab_link": true
    },
    "kernelspec": {
      "name": "python3",
      "display_name": "Python 3"
    },
    "accelerator": "GPU"
  },
  "cells": [
    {
      "cell_type": "markdown",
      "metadata": {
        "id": "view-in-github",
        "colab_type": "text"
      },
      "source": [
        "<a href=\"https://colab.research.google.com/github/Anthonysokolov/fashion-image-classifier/blob/master/fashion_mnist.ipynb\" target=\"_parent\"><img src=\"https://colab.research.google.com/assets/colab-badge.svg\" alt=\"Open In Colab\"/></a>"
      ]
    },
    {
      "metadata": {
        "id": "3hqigIwsNgPc",
        "colab_type": "text"
      },
      "cell_type": "markdown",
      "source": [
        "# Classifying images of clothing using Tensorflow"
      ]
    },
    {
      "metadata": {
        "id": "A5XsWGXiNyco",
        "colab_type": "text"
      },
      "cell_type": "markdown",
      "source": [
        "## Dataset: Fashion MNIST"
      ]
    },
    {
      "metadata": {
        "id": "5sCp5LiONPIY",
        "colab_type": "code",
        "colab": {}
      },
      "cell_type": "code",
      "source": [
        "# Import required libraries\n",
        "import numpy as np\n",
        "import tensorflow as tf\n",
        "from tensorflow import keras\n",
        "import matplotlib.pyplot as plt"
      ],
      "execution_count": 0,
      "outputs": []
    },
    {
      "metadata": {
        "id": "AgkrLomcOSCK",
        "colab_type": "text"
      },
      "cell_type": "markdown",
      "source": [
        "## Load data"
      ]
    },
    {
      "metadata": {
        "id": "eK76BI_ZNfWQ",
        "colab_type": "code",
        "colab": {}
      },
      "cell_type": "code",
      "source": [
        "(xtrain, ytrain), (xtest, ytest) = keras.datasets.fashion_mnist.load_data()"
      ],
      "execution_count": 0,
      "outputs": []
    },
    {
      "metadata": {
        "id": "uOsXS-6fOZT4",
        "colab_type": "code",
        "colab": {
          "base_uri": "https://localhost:8080/",
          "height": 365
        },
        "outputId": "fc6da135-f192-463a-c44b-e786d098dc55"
      },
      "cell_type": "code",
      "source": [
        "# Display sample image from dataset\n",
        "plt.imshow(xtrain[0])"
      ],
      "execution_count": 3,
      "outputs": [
        {
          "output_type": "execute_result",
          "data": {
            "text/plain": [
              "<matplotlib.image.AxesImage at 0x7f0549615128>"
            ]
          },
          "metadata": {
            "tags": []
          },
          "execution_count": 3
        },
        {
          "output_type": "display_data",
          "data": {
            "image/png": "[encoded data removed]",
            "text/plain": [
              "<Figure size 576x396 with 1 Axes>"
            ]
          },
          "metadata": {
            "tags": []
          }
        }
      ]
    },
    {
      "metadata": {
        "id": "y6hJJBz6PogF",
        "colab_type": "code",
        "colab": {}
      },
      "cell_type": "code",
      "source": [
        "# Normalize data\n",
        "xtrain = xtrain/255\n",
        "xtest = xtest/255"
      ],
      "execution_count": 0,
      "outputs": []
    },
    {
      "metadata": {
        "id": "hUwlY_dldTXj",
        "colab_type": "code",
        "colab": {}
      },
      "cell_type": "code",
      "source": [
        "# Reshape data\n",
        "xtrain = np.reshape(xtrain,(xtrain.shape[0],28,28,1))\n",
        "xtest = np.reshape(xtest,(xtest.shape[0],28,28,1))"
      ],
      "execution_count": 0,
      "outputs": []
    },
    {
      "metadata": {
        "id": "Y3Yse7QOPG_4",
        "colab_type": "text"
      },
      "cell_type": "markdown",
      "source": [
        "## Construct model"
      ]
    },
    {
      "metadata": {
        "id": "cwm9cOtmOn13",
        "colab_type": "code",
        "colab": {}
      },
      "cell_type": "code",
      "source": [
        "model = keras.models.Sequential()\n",
        "\n",
        "model.add(keras.layers.Conv2D(64, (3,3), activation = 'relu', input_shape = (28,28,1)))\n",
        "\n",
        "model.add(keras.layers.MaxPooling2D(2,2))\n",
        "\n",
        "model.add(keras.layers.Conv2D(64, (3,3), activation = 'relu'))\n",
        "\n",
        "model.add(keras.layers.MaxPooling2D(2,2))\n",
        "\n",
        "model.add(keras.layers.Flatten())\n",
        "\n",
        "model.add(keras.layers.Dense(128, activation = 'relu'))\n",
        "\n",
        "model.add(keras.layers.Dense(10, activation = 'softmax'))\n",
        "\n",
        "model.compile(optimizer = 'adam', loss = 'sparse_categorical_crossentropy', metrics = ['accuracy'])"
      ],
      "execution_count": 0,
      "outputs": []
    },
    {
      "metadata": {
        "id": "Ko1EfrPURean",
        "colab_type": "code",
        "colab": {}
      },
      "cell_type": "code",
      "source": [
        "# Define callback to end training if accuracy is below certain value\n",
        "class myCallback(tf.keras.callbacks.Callback):\n",
        "  def on_epoch_end(self, epoch, logs = {}):\n",
        "    # Check if accuracy is above a certain threshold after each epoch\n",
        "    if(logs['acc'] > 0.95):\n",
        "      print(\"\\nTarget accuracy reached!\")\n",
        "      self.model.stop_training = True\n",
        "      \n",
        "callbacks = myCallback()"
      ],
      "execution_count": 0,
      "outputs": []
    },
    {
      "metadata": {
        "id": "yZr40NvgO4ay",
        "colab_type": "code",
        "colab": {
          "base_uri": "https://localhost:8080/",
          "height": 381
        },
        "outputId": "106c0486-ef73-4176-c31e-22f4bab18209"
      },
      "cell_type": "code",
      "source": [
        "model.fit(xtrain,ytrain,epochs = 10, validation_data = (xtest,ytest), callbacks = [callbacks])"
      ],
      "execution_count": 44,
      "outputs": [
        {
          "output_type": "stream",
          "text": [
            "Train on 60000 samples, validate on 10000 samples\n",
            "Epoch 1/10\n",
            "60000/60000 [==============================] - 16s 262us/sample - loss: 0.4405 - acc: 0.8405 - val_loss: 0.3642 - val_acc: 0.8700\n",
            "Epoch 2/10\n",
            "60000/60000 [==============================] - 15s 257us/sample - loss: 0.2963 - acc: 0.8923 - val_loss: 0.3068 - val_acc: 0.8823\n",
            "Epoch 3/10\n",
            "60000/60000 [==============================] - 15s 258us/sample - loss: 0.2529 - acc: 0.9069 - val_loss: 0.2758 - val_acc: 0.8983\n",
            "Epoch 4/10\n",
            "60000/60000 [==============================] - 15s 256us/sample - loss: 0.2189 - acc: 0.9193 - val_loss: 0.2774 - val_acc: 0.8969\n",
            "Epoch 5/10\n",
            "60000/60000 [==============================] - 15s 257us/sample - loss: 0.1903 - acc: 0.9291 - val_loss: 0.2524 - val_acc: 0.9069\n",
            "Epoch 6/10\n",
            "60000/60000 [==============================] - 15s 256us/sample - loss: 0.1689 - acc: 0.9366 - val_loss: 0.2708 - val_acc: 0.9040\n",
            "Epoch 7/10\n",
            "60000/60000 [==============================] - 15s 256us/sample - loss: 0.1464 - acc: 0.9441 - val_loss: 0.2617 - val_acc: 0.9111\n",
            "Epoch 8/10\n",
            "59968/60000 [============================>.] - ETA: 0s - loss: 0.1288 - acc: 0.9517\n",
            "Target accuracy reached!\n",
            "60000/60000 [==============================] - 15s 254us/sample - loss: 0.1288 - acc: 0.9517 - val_loss: 0.2636 - val_acc: 0.9118\n"
          ],
          "name": "stdout"
        },
        {
          "output_type": "execute_result",
          "data": {
            "text/plain": [
              "<tensorflow.python.keras.callbacks.History at 0x7f052bcfc940>"
            ]
          },
          "metadata": {
            "tags": []
          },
          "execution_count": 44
        }
      ]
    },
    {
      "metadata": {
        "id": "kCHnOfeDQRPc",
        "colab_type": "code",
        "colab": {
          "base_uri": "https://localhost:8080/",
          "height": 54
        },
        "outputId": "14f4053a-565e-419f-e151-46c33c5178f7"
      },
      "cell_type": "code",
      "source": [
        "model.evaluate(xtest,ytest)"
      ],
      "execution_count": 45,
      "outputs": [
        {
          "output_type": "stream",
          "text": [
            "10000/10000 [==============================] - 1s 103us/sample - loss: 0.2636 - acc: 0.9118\n"
          ],
          "name": "stdout"
        },
        {
          "output_type": "execute_result",
          "data": {
            "text/plain": [
              "[0.2636492225348949, 0.9118]"
            ]
          },
          "metadata": {
            "tags": []
          },
          "execution_count": 45
        }
      ]
    },
    {
      "metadata": {
        "id": "paqupDWuhPK4",
        "colab_type": "text"
      },
      "cell_type": "markdown",
      "source": [
        "## Display model predictions"
      ]
    },
    {
      "metadata": {
        "id": "V-JcLR65VWLz",
        "colab_type": "code",
        "colab": {}
      },
      "cell_type": "code",
      "source": [
        "# Create dict of model outputs and their corresponding labels\n",
        "label_dict = {\n",
        " 0: \"T-shirt\",\n",
        " 1: \"Trouser\",\n",
        " 2: \"Pullover\",\n",
        " 3: \"Dress\",\n",
        " 4: \"Coat\",\n",
        " 5: \"Sandal\",\n",
        " 6: \"Shirt\",\n",
        " 7: \"Sneaker\",\n",
        " 8: \"Bag\",\n",
        " 9: \"Ankle boot\"\n",
        "}\n"
      ],
      "execution_count": 0,
      "outputs": []
    },
    {
      "metadata": {
        "id": "TfEEsGxQXD6b",
        "colab_type": "code",
        "colab": {
          "base_uri": "https://localhost:8080/",
          "height": 345
        },
        "outputId": "51a1651e-6a80-4e0b-ecf8-9feb2105636e"
      },
      "cell_type": "code",
      "source": [
        "# Plot images from test set and their corresponding predictions\n",
        "fig = plt.figure()\n",
        "\n",
        "for img,i in zip(xtest[:12],range(1,13)):\n",
        "  pred = np.argmax(model.predict([[img]])[0])\n",
        "  sub = fig.add_subplot(3,4,i)\n",
        "  sub.imshow(img.reshape(28,28),cmap = 'gray')\n",
        "  plt.title(label_dict[pred])\n",
        "  \n",
        "  sub.axes.get_xaxis().set_visible(False)\n",
        "  sub.axes.get_yaxis().set_visible(False)\n",
        "  \n",
        "plt.show()"
      ],
      "execution_count": 54,
      "outputs": [
        {
          "output_type": "display_data",
          "data": {
            "image/png": "[encoded data removed]",
            "text/plain": [
              "<Figure size 576x396 with 12 Axes>"
            ]
          },
          "metadata": {
            "tags": []
          }
        }
      ]
    },
    {
      "metadata": {
        "id": "e-HynpiMhtiM",
        "colab_type": "code",
        "colab": {}
      },
      "cell_type": "code",
      "source": [
        ""
      ],
      "execution_count": 0,
      "outputs": []
    }
  ]
}